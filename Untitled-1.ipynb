{
 "cells": [
  {
   "cell_type": "code",
   "execution_count": 1,
   "metadata": {},
   "outputs": [],
   "source": [
    "import numpy \n",
    "import cv2 \n"
   ]
  },
  {
   "cell_type": "markdown",
   "metadata": {},
   "source": [
    "<h1>find and draw contours in open CV\n"
   ]
  },
  {
   "cell_type": "code",
   "execution_count": 9,
   "metadata": {},
   "outputs": [
    {
     "name": "stdout",
     "output_type": "stream",
     "text": [
      "Number of contours 13\n",
      "[[[0 0]]\n",
      "\n",
      " [[0 1]]\n",
      "\n",
      " [[0 2]]\n",
      "\n",
      " ...\n",
      "\n",
      " [[3 0]]\n",
      "\n",
      " [[2 0]]\n",
      "\n",
      " [[1 0]]]\n"
     ]
    }
   ],
   "source": [
    "img=cv2.imread('./OpenCV_Logo.png')\n",
    "img=cv2.resize(img,(512,512))\n",
    "grayimg=cv2.cvtColor(img,cv2.COLOR_BGR2GRAY)\n",
    "_,thresh=cv2.threshold(grayimg,220,255,0)\n",
    "contours,heiraricy=cv2.findContours(thresh,cv2.RETR_TREE,cv2.CHAIN_APPROX_NONE)\n",
    "print('Number of contours',str(len(contours)))\n",
    "print(contours[0])\n",
    "cv2.drawContours(img,contours,-1,(0,255,0),3)\n",
    "cv2.imshow('img',grayimg)\n",
    "cv2.imshow('thresh',thresh)\n",
    "cv2.imshow('cont_img',img)\n",
    "cv2.waitKey(0)\n",
    "cv2.destroyAllWindows()"
   ]
  },
  {
   "cell_type": "markdown",
   "metadata": {},
   "source": [
    "<h1>Motion Detection and Tracking Using Opencv \n"
   ]
  },
  {
   "cell_type": "code",
   "execution_count": 23,
   "metadata": {},
   "outputs": [
    {
     "name": "stdout",
     "output_type": "stream",
     "text": [
      "(576, 768, 3)\n"
     ]
    }
   ],
   "source": [
    "cap=cv2.VideoCapture('./vtest.avi')\n",
    "width=int(cap.get(cv2.CAP_PROP_FRAME_WIDTH)) #can replase it py 3\n",
    "heigh=int(cap.get(cv2.CAP_PROP_FRAME_HEIGHT)) #cann replace it py 4\n",
    "fourcc=cv2.VideoWriter_fourcc(*'XVID')\n",
    "out=cv2.VideoWriter(\"motion_detection.avi\",fourcc,20,(1280,720))\n",
    "_,frame1=cap.read()\n",
    "_,frame2=cap.read()\n",
    "print(frame1.shape)\n",
    "while cap.isOpened():\n",
    "    diff=cv2.absdiff(frame1,frame2)\n",
    "    g_img=cv2.cvtColor(diff,cv2.COLOR_BGR2GRAY)\n",
    "    blur=cv2.GaussianBlur(g_img,(5,5),0)\n",
    "    _,thresh=cv2.threshold(blur,60,255,cv2.THRESH_BINARY)\n",
    "    dilated=cv2.dilate(thresh,None,iterations=10)\n",
    "    contours,_=cv2.findContours(dilated,cv2.RETR_TREE,cv2.CHAIN_APPROX_NONE)\n",
    "    for cont in contours:\n",
    "        (x,y,w,h)=cv2.boundingRect(cont) #it sed for Diemntional\n",
    "        if cv2.contourArea(cont)<900:\n",
    "            continue\n",
    "        cv2.rectangle(frame1,(x,y),(x+w,y+h),(0,255,0),2)\n",
    "        cv2.putText(frame1,'Status{}'.format('Movement'),(10,30),cv2.FONT_HERSHEY_SIMPLEX,1,(255,0,0),3)\n",
    "    image=cv2.resize(frame1,(1280,720))\n",
    "    out.write(image)\n",
    "    cv2.imshow('mmotion',frame1)\n",
    "    frame1=frame2\n",
    "    _,frame2=cap.read()\n",
    "    if cv2.waitKey(1)==27:\n",
    "        break\n",
    "\n",
    "\n",
    "cap.release()\n",
    "out.release()\n",
    "cv2.destroyAllWindows()\n",
    "\n"
   ]
  }
 ],
 "metadata": {
  "kernelspec": {
   "display_name": "Python 3",
   "language": "python",
   "name": "python3"
  },
  "language_info": {
   "codemirror_mode": {
    "name": "ipython",
    "version": 3
   },
   "file_extension": ".py",
   "mimetype": "text/x-python",
   "name": "python",
   "nbconvert_exporter": "python",
   "pygments_lexer": "ipython3",
   "version": "3.10.11"
  },
  "orig_nbformat": 4
 },
 "nbformat": 4,
 "nbformat_minor": 2
}
